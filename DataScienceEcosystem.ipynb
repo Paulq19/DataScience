{
 "cells": [
  {
   "cell_type": "markdown",
   "id": "8a86a55a",
   "metadata": {},
   "source": [
    "# Data Science Tools and Ecosystem"
   ]
  },
  {
   "cell_type": "markdown",
   "id": "8e42b60d",
   "metadata": {},
   "source": [
    "In this notebook, Data Science Tools and Ecosystem are summarized."
   ]
  },
  {
   "cell_type": "markdown",
   "id": "d072f3f0",
   "metadata": {},
   "source": [
    "### Objectives:\n",
    "- Data Science basic tool and structure\n",
    "- R studio\n",
    "- VS code\n",
    "- Pyton\n",
    "- Java\n",
    "- C++\n",
    "- GitHub"
   ]
  },
  {
   "cell_type": "markdown",
   "id": "05ce4144",
   "metadata": {},
   "source": [
    "Some of the popular languages that Data Scientists use are:\n",
    "1. Python\n",
    "2. SQL\n",
    "3. R"
   ]
  },
  {
   "cell_type": "markdown",
   "id": "e4ac7a69",
   "metadata": {},
   "source": [
    "Some of the commonly used libraries used by Data Scientists include:\n",
    " 1. Numpy\n",
    " 2. Pandas\n",
    " 3. GGPLOT"
   ]
  },
  {
   "cell_type": "markdown",
   "id": "c35dd705",
   "metadata": {},
   "source": [
    "| Data Science Tools                                      |\n",
    "|------------------------------------------------    |\n",
    "| Jupyter Notebook                                        |\n",
    "| Jupyter lab                                             |\n",
    "| R studio                                                |\n",
    "| VS Code|\n"
   ]
  },
  {
   "cell_type": "markdown",
   "id": "753b51c8",
   "metadata": {},
   "source": [
    "### Below are a few examples of evaluating arithmetic expressions in Python"
   ]
  },
  {
   "cell_type": "code",
   "execution_count": 1,
   "id": "011b8e20",
   "metadata": {},
   "outputs": [
    {
     "data": {
      "text/plain": [
       "17"
      ]
     },
     "execution_count": 1,
     "metadata": {},
     "output_type": "execute_result"
    }
   ],
   "source": [
    "#This a simple arithmetic expression to mutiply then add integers\n",
    "(3*4)+5"
   ]
  },
  {
   "cell_type": "code",
   "execution_count": 3,
   "id": "e5133e8d",
   "metadata": {},
   "outputs": [
    {
     "name": "stdout",
     "output_type": "stream",
     "text": [
      "3.3333333333333335\n"
     ]
    }
   ],
   "source": [
    "#This will convert 200 minutes to hours by diving by 60\n",
    "Minutes = 200\n",
    "Hours = Minutes / 60\n",
    "print(Hours)"
   ]
  },
  {
   "cell_type": "markdown",
   "id": "ef7d938e",
   "metadata": {},
   "source": [
    "## Author\n",
    "Paul Liu"
   ]
  },
  {
   "cell_type": "code",
   "execution_count": null,
   "id": "8f302883",
   "metadata": {},
   "outputs": [],
   "source": []
  }
 ],
 "metadata": {
  "kernelspec": {
   "display_name": "Python 3",
   "language": "python",
   "name": "python3"
  },
  "language_info": {
   "codemirror_mode": {
    "name": "ipython",
    "version": 3
   },
   "file_extension": ".py",
   "mimetype": "text/x-python",
   "name": "python",
   "nbconvert_exporter": "python",
   "pygments_lexer": "ipython3",
   "version": "3.8.8"
  }
 },
 "nbformat": 4,
 "nbformat_minor": 5
}
